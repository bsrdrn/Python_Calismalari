{
 "cells": [
  {
   "cell_type": "code",
   "execution_count": 1,
   "metadata": {},
   "outputs": [
    {
     "name": "stdout",
     "output_type": "stream",
     "text": [
      "Busra Duran\n"
     ]
    }
   ],
   "source": [
    "customer_name = \"Busra\"\n",
    "surName = \" Duran\"\n"
   ]
  },
  {
   "cell_type": "code",
   "execution_count": 2,
   "metadata": {},
   "outputs": [
    {
     "name": "stdout",
     "output_type": "stream",
     "text": [
      "1567.45\n"
     ]
    }
   ],
   "source": [
    "siparis1 = 110\n",
    "siparis2 = 1100.5\n",
    "siparis3 = 356.95\n",
    "\n",
    "print(siparis1 + siparis2 + siparis3)"
   ]
  },
  {
   "cell_type": "code",
   "execution_count": 3,
   "metadata": {},
   "outputs": [
    {
     "name": "stdout",
     "output_type": "stream",
     "text": [
      "Total= 1567.45\n"
     ]
    }
   ],
   "source": [
    "siparis1 = 110\n",
    "siparis2 = 1100.5\n",
    "siparis3 = 356.95\n",
    "total = siparis1 + siparis2 + siparis3\n",
    "\n",
    "print(\"Total=\" , total)"
   ]
  },
  {
   "cell_type": "code",
   "execution_count": 4,
   "metadata": {},
   "outputs": [
    {
     "name": "stdout",
     "output_type": "stream",
     "text": [
      "<class 'int'>\n",
      "<class 'float'>\n",
      "<class 'str'>\n",
      "<class 'bool'>\n",
      "52.7\n",
      "<class 'str'>\n"
     ]
    }
   ],
   "source": [
    "x = 5\n",
    "y =2.7\n",
    "name = \"busra\"\n",
    "isOnline = True\n",
    "\n",
    "print(type(x))\n",
    "print(type(y))\n",
    "print(type(name))\n",
    "print(type(isOnline))\n",
    "\n",
    "\"\"\"\n",
    "Type conversion\n",
    "\n",
    "in to float\n",
    "\"\"\"\n",
    "\n",
    "result = str(x) + str(y)\n",
    "print(result)\n",
    "print(type(result))"
   ]
  },
  {
   "cell_type": "markdown",
   "metadata": {},
   "source": [
    "VERİ TİPİ DÖNÜŞÜMLERİ"
   ]
  },
  {
   "cell_type": "code",
   "execution_count": 2,
   "metadata": {},
   "outputs": [],
   "source": [
    "\"\"\"\n",
    "Daire Alanı = πR²\n",
    "Dairenin çevresi = 2πR\n",
    "\n",
    "* yarı çapı verilen dairenin alan ve çevresini hesaplayın*\n",
    "R= 3.14\n",
    "\"\"\"\n",
    "\n",
    "pi  = 3.14\n",
    "r = float(input(\"yarı çap: \"))\n",
    "\n",
    "alan  = pi * (r ** 2)\n",
    "cevre = 2 * pi * r\n",
    "\n",
    "print(\"Alan:\", alan)\n",
    "print(\"Çevre:\", cevre)"
   ]
  },
  {
   "cell_type": "code",
   "execution_count": 11,
   "metadata": {},
   "outputs": [
    {
     "name": "stdout",
     "output_type": "stream",
     "text": [
      "Busra\n",
      "Duran\n",
      "23\n",
      "BusraDuran\n",
      "BusraDuran23\n",
      "My name is Busra Duran and I am 23 years old\n"
     ]
    }
   ],
   "source": [
    "name ='Busra'\n",
    "surName ='Duran'\n",
    "age  = 23 \n",
    "\n",
    "\n",
    "print(name)\n",
    "print(surName)\n",
    "print(age)\n",
    "\n",
    "print(name + surName )\n",
    "print(name + surName + str(age) )\n",
    "\n",
    "print(\"My name is\" + \" \" + name + \" \" + surName + \" and I am \" + str(age) + \" years old\" )"
   ]
  },
  {
   "cell_type": "code",
   "execution_count": 5,
   "metadata": {},
   "outputs": [
    {
     "name": "stdout",
     "output_type": "stream",
     "text": [
      "My name is Busra Duran and \n",
      "I am 23 years old\n"
     ]
    }
   ],
   "source": [
    "\"\"\"Alt satıra geçirmek istediğimiz ifadenin başına \\n yazarak ifadenin bir alt satıra geçmesini sağlarız.\"\"\"\n",
    "name ='Busra'\n",
    "surName ='Duran'\n",
    "age  = 23 \n",
    "\n",
    "print(\"My name is\" + \" \" + name + \" \" + surName + \" and \\nI am \" + str(age) + \" years old\" )"
   ]
  },
  {
   "cell_type": "code",
   "execution_count": 6,
   "metadata": {},
   "outputs": [
    {
     "name": "stdout",
     "output_type": "stream",
     "text": [
      "My name is Busra Duran and \n",
      "I am 23 years old\n",
      "d\n",
      "d\n",
      "M\n",
      "name is Busra\n",
      "name is Busra Duran and \n",
      "I am 23 years old\n",
      "My name is Busra\n",
      "nm sBsa\n"
     ]
    }
   ],
   "source": [
    "name ='Busra'\n",
    "surName ='Duran'\n",
    "age  = 23 \n",
    "\n",
    "greeting = \"My name is\" + \" \" + name + \" \" + surName + \" and \\nI am \" + str(age) + \" years old\" \n",
    "length = len(greeting)\n",
    "\n",
    "\n",
    "print(greeting)\n",
    "print(greeting[length-1])\n",
    "print(greeting[-1])\n",
    "print(greeting[0])\n",
    "\n",
    "print(greeting[3:16])\n",
    "print(greeting[3:])\n",
    "print(greeting[:16])\n",
    "print(greeting[3:16:2])"
   ]
  },
  {
   "cell_type": "markdown",
   "metadata": {},
   "source": [
    "STRİNG FORMATLAMA"
   ]
  },
  {
   "cell_type": "code",
   "execution_count": 7,
   "metadata": {},
   "outputs": [
    {
     "name": "stdout",
     "output_type": "stream",
     "text": [
      "my name is Büşra Duran\n",
      "my name is Büşra Duran\n",
      "my name is Duran Büşra\n",
      "my name is Büşra Duran\n",
      "my name is Duran Büşra\n",
      "my name is Büşra Duran and I am 23 years old. \n",
      "my name is Büşra Duran and I am 23 years old. \n"
     ]
    }
   ],
   "source": [
    "name = \"Büşra\"\n",
    "surname = \"Duran\"\n",
    "age = 23\n",
    "\n",
    "print(\"my name is {} {}\".format (name, surname))\n",
    "print(\"my name is {0} {1}\".format (name, surname))\n",
    "print(\"my name is {1} {0}\".format (name, surname))\n",
    "print(\"my name is {n} {s}\".format (n=name, s=surname))\n",
    "print(\"my name is {s} {n}\".format (n=name, s=surname))\n",
    "print(\"my name is {n} {s} and I am {a} years old. \".format (n=name, s=surname, a=age))\n",
    "print(\"my name is {} {} and I am {} years old. \".format (name, surname, age))"
   ]
  },
  {
   "cell_type": "code",
   "execution_count": 10,
   "metadata": {},
   "outputs": [
    {
     "name": "stdout",
     "output_type": "stream",
     "text": [
      "0.2857142857142857\n"
     ]
    }
   ],
   "source": [
    "print(200/700)"
   ]
  },
  {
   "cell_type": "code",
   "execution_count": null,
   "metadata": {},
   "outputs": [],
   "source": []
  }
 ],
 "metadata": {
  "kernelspec": {
   "display_name": "Python 3.10.5 32-bit",
   "language": "python",
   "name": "python3"
  },
  "language_info": {
   "codemirror_mode": {
    "name": "ipython",
    "version": 3
   },
   "file_extension": ".py",
   "mimetype": "text/x-python",
   "name": "python",
   "nbconvert_exporter": "python",
   "pygments_lexer": "ipython3",
   "version": "3.10.5"
  },
  "orig_nbformat": 4,
  "vscode": {
   "interpreter": {
    "hash": "3a76228ad2be0688f8ad5f22cd5a5c34eb0a8c6f0341e9e6e30d2b6319109a87"
   }
  }
 },
 "nbformat": 4,
 "nbformat_minor": 2
}
