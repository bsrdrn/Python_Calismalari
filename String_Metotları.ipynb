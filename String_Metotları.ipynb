{
 "cells": [
  {
   "cell_type": "code",
   "execution_count": 1,
   "metadata": {},
   "outputs": [
    {
     "name": "stdout",
     "output_type": "stream",
     "text": [
      "Hello World\n"
     ]
    }
   ],
   "source": [
    "website = \"http://www.busraduran.com\"\n",
    "course = \"Python Kursu: Baştan Sona Python Programlama Rehberiniz (40 saat)\"\n",
    "\n",
    "# \" Hello World \" karakter dizisinin baş ve sondaki boşluk karakterlerini silin.\n",
    "message = \" Hello World \"\n",
    "message = message.strip()\n",
    "\n",
    "print(message)"
   ]
  },
  {
   "cell_type": "code",
   "execution_count": 8,
   "metadata": {},
   "outputs": [
    {
     "name": "stdout",
     "output_type": "stream",
     "text": [
      "busraduran\n",
      "busraduran\n"
     ]
    }
   ],
   "source": [
    "website = \"http://www.busraduran.com\"\n",
    "# website içindeki busraduran haricindeki karakterlerini silin.\n",
    "\n",
    "website = website.lstrip(\"/:htpw.\")\n",
    "website = website.rstrip(\".com\")\n",
    "print(website)\n",
    "\n",
    "\n",
    "website = \"http://www.busraduran.com\"\n",
    "website = website.strip(\"/:htpw.com\")\n",
    "print(website)"
   ]
  },
  {
   "cell_type": "code",
   "execution_count": 9,
   "metadata": {},
   "outputs": [
    {
     "name": "stdout",
     "output_type": "stream",
     "text": [
      "python kursu: baştan sona python programlama rehberiniz (40 saat)\n"
     ]
    }
   ],
   "source": [
    "course = \"Python Kursu: Baştan Sona Python Programlama Rehberiniz (40 saat)\"\n",
    "# \" course \" karakter dizisinin tüm karakterlerini küçük harf yapın.\n",
    "\n",
    "course = course.lower()\n",
    "print(course)"
   ]
  },
  {
   "cell_type": "code",
   "execution_count": 16,
   "metadata": {},
   "outputs": [
    {
     "name": "stdout",
     "output_type": "stream",
     "text": [
      "2\n",
      "False\n",
      "True\n",
      "22\n",
      "22\n"
     ]
    }
   ],
   "source": [
    "website = \"http://www.busraduran.com\"\n",
    "# website içinde kaç tane a vardır? (count(a))\n",
    "\n",
    "website = website.count(\"a\")\n",
    "print(website)\n",
    "\n",
    "# website www ile başlayıp com bitiyor mu?\n",
    "\n",
    "website = \"http://www.busraduran.com\"\n",
    "isFound = website.startswith(\"www\")\n",
    "isFound2 = website.endswith(\"com\")\n",
    "\n",
    "print(isFound)\n",
    "print(isFound2)\n",
    "\n",
    "website = \"http://www.busraduran.com\"\n",
    "# website içinde com var mı? \n",
    "\n",
    "website = website.find(\"com\")\n",
    "print(website)\n",
    "\n",
    "website = \"http://www.busraduran.com\"\n",
    "website = website.index(\"com\")\n",
    "print(website)"
   ]
  },
  {
   "cell_type": "code",
   "execution_count": 18,
   "metadata": {},
   "outputs": [
    {
     "name": "stdout",
     "output_type": "stream",
     "text": [
      "False\n",
      "True\n"
     ]
    }
   ],
   "source": [
    "course = \"Python Kursu: Baştan Sona Python Programlama Rehberiniz (40 saat)\"\n",
    "# \" course \" içindeki karakterlerin hepsi alfabetik mi? (isalpha, isdisting)\n",
    "\n",
    "course = course.isalpha()\n",
    "print(course)\n",
    "result = \"Hello\".isalpha()\n",
    "print(result)"
   ]
  },
  {
   "cell_type": "code",
   "execution_count": 20,
   "metadata": {},
   "outputs": [
    {
     "name": "stdout",
     "output_type": "stream",
     "text": [
      "*********************Contents*********************\n"
     ]
    }
   ],
   "source": [
    "# \"Contents\" ifadesini satırda 50 karakter içine yerleştirip sağ ve soluna * ekleyin.\n",
    "a = \"Contents\"\n",
    "a=a.center(50,\"*\")\n",
    "print(a)"
   ]
  },
  {
   "cell_type": "code",
   "execution_count": 21,
   "metadata": {},
   "outputs": [
    {
     "name": "stdout",
     "output_type": "stream",
     "text": [
      "Python-Kursu:-Baştan-Sona-Python-Programlama-Rehberiniz-(40-saat)\n"
     ]
    }
   ],
   "source": [
    "course = \"Python Kursu: Baştan Sona Python Programlama Rehberiniz (40 saat)\"\n",
    "# \" course \" karakter dizisindeki tüm boşluk karakterlerini \"-\" ile değiştirin.\n",
    "\n",
    "course = course.replace(\" \",\"-\")\n",
    "print(course)\n"
   ]
  },
  {
   "cell_type": "code",
   "execution_count": 22,
   "metadata": {},
   "outputs": [
    {
     "name": "stdout",
     "output_type": "stream",
     "text": [
      " Hello there \n"
     ]
    }
   ],
   "source": [
    "# \" Hello World \" karakter dizisinin World kelimesini there ile değiştirin.\n",
    "message = \" Hello World \"\n",
    "\n",
    "message = message.replace(\"World\", \"there\")\n",
    "print(message)\n"
   ]
  },
  {
   "cell_type": "code",
   "execution_count": 24,
   "metadata": {},
   "outputs": [
    {
     "name": "stdout",
     "output_type": "stream",
     "text": [
      "['Python', 'Kursu:', 'Baştan', 'Sona', 'Python', 'Programlama', 'Rehberiniz', '(40', 'saat)']\n"
     ]
    }
   ],
   "source": [
    "course = \"Python Kursu: Baştan Sona Python Programlama Rehberiniz (40 saat)\"\n",
    "# \" course \" karakter dizisini boşluk karakterlerinden ayırın.\n",
    "\n",
    "course = course.split(\" \")\n",
    "print(course)\n"
   ]
  }
 ],
 "metadata": {
  "kernelspec": {
   "display_name": "Python 3.10.5 32-bit",
   "language": "python",
   "name": "python3"
  },
  "language_info": {
   "codemirror_mode": {
    "name": "ipython",
    "version": 3
   },
   "file_extension": ".py",
   "mimetype": "text/x-python",
   "name": "python",
   "nbconvert_exporter": "python",
   "pygments_lexer": "ipython3",
   "version": "3.10.5"
  },
  "orig_nbformat": 4,
  "vscode": {
   "interpreter": {
    "hash": "3a76228ad2be0688f8ad5f22cd5a5c34eb0a8c6f0341e9e6e30d2b6319109a87"
   }
  }
 },
 "nbformat": 4,
 "nbformat_minor": 2
}
