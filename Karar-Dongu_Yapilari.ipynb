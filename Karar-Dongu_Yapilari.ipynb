{
 "cells": [
  {
   "cell_type": "markdown",
   "metadata": {},
   "source": [
    "**if-else Yapısı**"
   ]
  },
  {
   "cell_type": "code",
   "execution_count": 2,
   "metadata": {},
   "outputs": [
    {
     "name": "stdout",
     "output_type": "stream",
     "text": [
      "Başarısız\n"
     ]
    }
   ],
   "source": [
    "#Kullanıcıdan iki sınav ve bir performans notu girmesini isteyiniz. Girilen 3 notun ortalaması 50 ve daha büyükse “Başarılı”; değilse “Başarısız” çıktıları veren kodu yazınız\n",
    "\n",
    "sinav1 = int(input(\"Sınav 1 notunu giriniz: \"))\n",
    "sinav2 = int(input(\"Sınav 2 notunu giriniz: \"))\n",
    "performans = int(input(\"Performans notunu giriniz: \"))\n",
    "\n",
    "result = (sinav1 + sinav2 + performans)/3\n",
    "\n",
    "if result >= 50:\n",
    "    print(\"Başarılı\")\n",
    "else:\n",
    "    print(\"Başarısız\")"
   ]
  },
  {
   "cell_type": "code",
   "execution_count": 4,
   "metadata": {},
   "outputs": [
    {
     "name": "stdout",
     "output_type": "stream",
     "text": [
      "Bu bir üçgendir\n"
     ]
    }
   ],
   "source": [
    "# Bir üçgenin iç açıları toplamı 180 derecedir. Kullanıcının girdiği üç açı değerine göre “Bu bir üçgendir.” ya da “Bu bir üçgen değildir.” çıktıları veren kodu yazınız.\n",
    "\n",
    "aci1 = int(input(\"İlk açıyı giriniz: \"))\n",
    "aci2 = int(input(\"2. açıyı giriniz: \"))\n",
    "aci3 = int(input(\"3. açıyı giriniz: \"))\n",
    "\n",
    "toplam = (aci1 + aci2 + aci3)\n",
    "\n",
    "if toplam == 180:\n",
    "    print(\"Bu bir üçgendir\")\n",
    "else:\n",
    "    print(\"Bu bir üçgen değildir\")\n"
   ]
  },
  {
   "cell_type": "code",
   "execution_count": 7,
   "metadata": {},
   "outputs": [
    {
     "name": "stdout",
     "output_type": "stream",
     "text": [
      "50 TL ödemelisiniz.\n"
     ]
    }
   ],
   "source": [
    "\"\"\"\n",
    "Bir hava yolu firması en fazla 20 kilogram bagaj hakkı vermektedir. 20 kilogramdan sonraki her kilogram \n",
    "için 10 TL ek ücret almaktadır. Buna göre bagajı 20 kg ya da daha az olan yolculara “Herhangi bir ücret \n",
    "ödemeniz gerekmiyor.”; 20 kg’den fazla olanlar için de ne kadar ek ücret ödeneceğini hesaplayarak “Fazla \n",
    "bagaj için ….. TL ödemelisiniz.” çıktılarını veren kodu yazınız. \n",
    "Not: Bu soruda kilogram hesabında sadece tam sayıları dikkate alınız. Örneğin 28,70 kilogram olan bagaj \n",
    "için sadece 8 kg için ek ücret ödenmesi yeterlidir.\n",
    "\"\"\"\n",
    "\n",
    "bagaj_kg = int(input(\"Bagaj ağırlığını giriniz: \"))\n",
    "max_kilo = 20\n",
    "\n",
    "if bagaj_kg <= 20:\n",
    "    print(\"Herhangi bir ücret ödemeniz gerekmiyor.\")\n",
    "else:\n",
    "    fark = bagaj_kg - max_kilo\n",
    "    fark_ucreti = fark * 10 \n",
    "    print(f\"{fark_ucreti} TL ödemelisiniz.\")"
   ]
  },
  {
   "cell_type": "code",
   "execution_count": 11,
   "metadata": {},
   "outputs": [
    {
     "name": "stdout",
     "output_type": "stream",
     "text": [
      "Ödenecek miktar, indirimden sonra 262.5 TL’dir\n"
     ]
    }
   ],
   "source": [
    "# Kullanıcının girdiği iki ürünün toplam fiyatı 200 TL ve altıysa “Ödenecek miktar=…. TL”; 200 TL’yi geçerse %25 indirim yaparak “Ödenecek miktar, indirimden sonra ….. TL’dir.” çıktılarını veren kodu yazınız\n",
    "\n",
    "urun1_fiyat = int(input(\"Ürünün fiyatını giriniz: \"))\n",
    "urun2_fiyat = int(input(\"Ürünün fiyatını giriniz: \"))\n",
    "\n",
    "total = urun1_fiyat + urun2_fiyat\n",
    "\n",
    "if total <= 200:\n",
    "    print(f\"Ödenecek miktar {total}\")\n",
    "\n",
    "else:\n",
    "    total = total - total*0.25\n",
    "    print(f\"Ödenecek miktar, indirimden sonra {total} TL’dir\")"
   ]
  },
  {
   "cell_type": "markdown",
   "metadata": {},
   "source": [
    "**Tek satırlık ifadeler, Python’da tek satırlık kodların if ifadesinin yanına yazılmasını desteklemektedir.**"
   ]
  },
  {
   "cell_type": "code",
   "execution_count": 12,
   "metadata": {},
   "outputs": [
    {
     "name": "stdout",
     "output_type": "stream",
     "text": [
      "Listede bulunamadı\n"
     ]
    }
   ],
   "source": [
    "\"\"\"\n",
    "haftaici isimli bir liste oluşturarak Pazartesi, Salı, Çarşamba, Perşembe ve Cuma elemanları \n",
    "eklensin. If yapısı kullanılarak Cumartesi elemanı listede varsa “Listede bulundu.”; yoksa “Listede bulunamadı.” \n",
    "çıktıları veren kodu yazınız.\n",
    "\"\"\"\n",
    "haftaici = [\"Pazartesi\", \"Salı\", \"Çarşamba\", \"Perşembe\" , \"Cuma\"]\n",
    "if \"cumartesi\" in haftaici:\n",
    "    print(\"Listede bulundu\")\n",
    "else:\n",
    "    print(\"Listede bulunamadı\")\n"
   ]
  },
  {
   "cell_type": "code",
   "execution_count": 16,
   "metadata": {},
   "outputs": [
    {
     "name": "stdout",
     "output_type": "stream",
     "text": [
      "İşe alındınız\n"
     ]
    }
   ],
   "source": [
    "# Kullanıcıya yabancı dil ve ofis programlarını bilip bilmediği sorulsun. Her iki soruya da “Evet” cevabı verilirse “İşe alındınız.”; diğer durumlarda ise “İşe alınmadınız.” çıktıları veren programı yazınız.\n",
    "\n",
    "yabanci_dil = input(\"yabancı dil bilginizi E ya da H şeklinde giriniz: \")\n",
    "ofis_program = input(\"Ofis programları bilginizi E ya da H şeklinde giriniz: \")\n",
    "\n",
    "if yabanci_dil == \"E\" and ofis_program == \"E\":\n",
    "    print(\"İşe alındınız\")\n",
    "else:\n",
    "    print(\"İşe alınmadınız\")"
   ]
  },
  {
   "cell_type": "code",
   "execution_count": 18,
   "metadata": {},
   "outputs": [
    {
     "name": "stdout",
     "output_type": "stream",
     "text": [
      "Kullanıcı adı ya da şifre yanlış\n"
     ]
    }
   ],
   "source": [
    "# Kullanıcıdan kullanıcı adı ve şifre girilmesi istensin. Kullanıcı adı “Türkiye”; şifre 1923 ise “Giriş başarılı”; \n",
    "# değilse “Kullanıcı adı ya da şifre yanlış” çıktıları veren kodu yazınız.\n",
    "\n",
    "kullanici_adi = input(\"Kullanıcı adını giriniz: \")\n",
    "sifre = input(\"Şifre giriniz: \")\n",
    "\n",
    "if kullanici_adi == \"Türkiye\" and sifre == \"1923\":\n",
    "    print(\"Giriş başarılı\")\n",
    "else:\n",
    "    print(\"Kullanıcı adı ya da şifre yanlış\")\n",
    "    "
   ]
  },
  {
   "cell_type": "code",
   "execution_count": 19,
   "metadata": {},
   "outputs": [
    {
     "name": "stdout",
     "output_type": "stream",
     "text": [
      "15’e tam bölünür\n"
     ]
    }
   ],
   "source": [
    "# Girilen sayı hem 3 hem de 5’e tam bölünüyorsa “15’e tam bölünür.”; bölünmüyorsa “15’e tam bölünmez.” çıktıları veren kodu yazınız.\n",
    "\n",
    "number = int(input(\"Bir sayı girin: \"))\n",
    "\n",
    "if number%3 ==0 and number%5==0:\n",
    "    print(\"15’e tam bölünür\")\n",
    "else:\n",
    "    print(\"15’e tam bölünmez\")"
   ]
  },
  {
   "cell_type": "markdown",
   "metadata": {},
   "source": [
    "**if-elif-else yapısı**"
   ]
  },
  {
   "cell_type": "code",
   "execution_count": 20,
   "metadata": {},
   "outputs": [
    {
     "name": "stdout",
     "output_type": "stream",
     "text": [
      "18\n"
     ]
    }
   ],
   "source": [
    "\"\"\"\n",
    "Girilen iki sayıya ve operatöre (+,-,*,/) göre toplama, çıkarma, çarpma ya da bölme işlemlerini \n",
    "yapan; bu operatörler dışında bir değer girildiğinde “Yanlış işlem girdiniz.” uyarısı veren kodu yazınız.\n",
    "\"\"\"\n",
    "\n",
    "number = int(input(\"Bir sayı girin: \"))\n",
    "number2 = int(input(\"Bir sayı girin: \"))\n",
    "islem = input(\"Bir operatör giriniz(+,-,*,/): \")\n",
    "\n",
    "if islem == \"+\":\n",
    "    result = number + number2\n",
    "    print(result)\n",
    "if islem == \"-\":\n",
    "    result = number - number2\n",
    "    print(result)\n",
    "if islem == \"*\":\n",
    "    result = number * number2\n",
    "    print(result)\n",
    "if islem == \"/\":\n",
    "    result = number / number2\n",
    "    print(result)"
   ]
  },
  {
   "cell_type": "code",
   "execution_count": 22,
   "metadata": {},
   "outputs": [
    {
     "name": "stdout",
     "output_type": "stream",
     "text": [
      "Ilık\n"
     ]
    }
   ],
   "source": [
    "# Kullanıcı tarafından girilen hava sıcaklığı 5 °C ve altındaysa “Soğuk”; 6-14 °C arasındaysa “Ilık”; 15 °C ve \n",
    "# daha fazlaysa “Sıcak” çıktılarını veren kodu yazınız.\n",
    "\n",
    "hava_sicakligi = int(input(\"Hava sıcaklığını giriniz: \"))\n",
    "\n",
    "if hava_sicakligi <= 5:\n",
    "    print(\"Soğuk\")\n",
    "elif 6 <= hava_sicakligi <= 14:\n",
    "    print(\"Ilık\")\n",
    "else:\n",
    "    print(\"Sıcak\")"
   ]
  },
  {
   "cell_type": "code",
   "execution_count": 26,
   "metadata": {},
   "outputs": [
    {
     "name": "stdout",
     "output_type": "stream",
     "text": [
      "20 TL ödenecek\n"
     ]
    }
   ],
   "source": [
    "\"\"\"\n",
    "Bir otoparkın ücret tarifesi aşağıdaki gibidir:\n",
    "1 saate kadar: 5 TL\n",
    "1-5 saat arası: Saat başı 4 TL\n",
    "5 saatten fazla: Saat başı 3 TL\n",
    "Buna göre kullanıcının girdiği otoparkta kalınan saat süresine göre ödenecek miktarı bularak ekrana \n",
    "yazdırınız\n",
    "\"\"\"\n",
    "\n",
    "time = int(input(\"Otoparkta kaç saat kaldığını giriniz: \"))\n",
    "ucretlendirme1 = 5\n",
    "ucretlendirme2 = 4\n",
    "ucretlendirme3 = 3\n",
    "\n",
    "if time <=1:\n",
    "    tutar = time * ucretlendirme1\n",
    "    print(f\"{tutar} TL ödenecek\")\n",
    "elif time <=5:\n",
    "    tutar = time * ucretlendirme2\n",
    "    print(f\"{tutar} TL ödenecek\")\n",
    "else:\n",
    "    tutar = time * 3\n",
    "    print(f\"{tutar} TL ödenecek\")\n"
   ]
  },
  {
   "cell_type": "code",
   "execution_count": 29,
   "metadata": {},
   "outputs": [
    {
     "name": "stdout",
     "output_type": "stream",
     "text": [
      "Çeşitkenar Üçgen\n"
     ]
    }
   ],
   "source": [
    "#Üçgenler kenar uzunluklarına göre üçe ayrılmaktadır: Eşkenar, İkizkenar ve Çeşitkenar. Kullanıcının girdiği 3 kenar uzunluğuna göre üçgenin türünü ekrana yazdırınız.\n",
    "\n",
    "kenar1 = int(input(\"Kenar uzunluğunu giriniz: \"))\n",
    "kenar2 = int(input(\"Kenar uzunluğunu giriniz: \"))\n",
    "kenar3 = int(input(\"Kenar uzunluğunu giriniz: \"))\n",
    "\n",
    "if kenar1==kenar2==kenar3:\n",
    "    print(\"Eşkenar Üçgen\")\n",
    "elif kenar1==kenar2 or kenar1==kenar3 or kenar2==kenar3:\n",
    "    print(\"İkizkenar Üçgen\")\n",
    "else:\n",
    "    print(\"Çeşitkenar Üçgen\") "
   ]
  },
  {
   "cell_type": "code",
   "execution_count": 31,
   "metadata": {},
   "outputs": [
    {
     "name": "stdout",
     "output_type": "stream",
     "text": [
      "Obez\n"
     ]
    }
   ],
   "source": [
    "\"\"\"\n",
    "Kullanıcının girdiği boy ve ağırlık değerlerine göre vücut kitle indeksini (VKİ=ağırlık/(boy*boy), boy \n",
    "metre cinsinden verilmeli) hesaplayınız. \n",
    "VKİ 18 ile < 25 aralığındaysa normal,\n",
    "VKİ 25 ile <30 aralığındaysa kilolu,\n",
    "VKİ 30 ve daha yüksekse obez,\n",
    "VKİ 35 ve daha fazlaysa ciddi obez olarak kabul edilir.\n",
    "VKİ’ni hesaplayarak kişinin durumunu yazdırınız\n",
    "\"\"\"\n",
    "\n",
    "boy = float(input(\"Boyunuzu m cinsinden giriniz: \"))\n",
    "kilo =int(input(\"Kilonuzu kg cinsinden giriniz: \"))\n",
    "\n",
    "vki = kilo/(boy*boy)\n",
    "\n",
    "if 18 <= vki < 25:\n",
    "    print(\"Normal\")\n",
    "elif 25 <= vki < 30:\n",
    "    print(\"Kilolu\")   \n",
    "elif 30 <= vki < 35:\n",
    "    print(\"Obez\") \n",
    "else:\n",
    "    print(\"Ciddi obez\")"
   ]
  },
  {
   "cell_type": "code",
   "execution_count": 34,
   "metadata": {},
   "outputs": [
    {
     "name": "stdout",
     "output_type": "stream",
     "text": [
      "7.5\n"
     ]
    }
   ],
   "source": [
    "\"\"\" \n",
    "Kullanıcıya sinema ya da tiyatro tercihi sorulsun. Sinema izlemek için 15 TL, tiyatro için 10 TL \n",
    "ödenmesi gerekmedir. Öğrencilere %50 indirim yapıldığı düşünülerek öğrenci ise indirim yapılan; öğrenci değilse \n",
    "indirimsiz tutarı hesaplayarak ekrana yazdıran kodu yazınız.\n",
    "\"\"\" \n",
    "\n",
    "tercih = input(\"Sinema tercihinizi sinema yada tiyatro olarak giriniz: \")\n",
    "student = input(\"Öğrenci misiniz? (E/H) : \")\n",
    "sinema = 15\n",
    "tiyatro = 10\n",
    "\n",
    "if tercih == \"Sinema\":\n",
    "    if student == \"E\":\n",
    "        tutar = sinema * 0.5\n",
    "        print(tutar)\n",
    "    else: \n",
    "        tutar = sinema\n",
    "        print(tutar)\n",
    "if tercih == \"Tiyatro\":\n",
    "    if student == \"E\":\n",
    "        tutar = tiyatro * 0.5\n",
    "        print(tutar)\n",
    "    else: \n",
    "        tutar = tiyatro\n",
    "        print(tutar)"
   ]
  }
 ],
 "metadata": {
  "kernelspec": {
   "display_name": "Python 3.10.5 32-bit",
   "language": "python",
   "name": "python3"
  },
  "language_info": {
   "codemirror_mode": {
    "name": "ipython",
    "version": 3
   },
   "file_extension": ".py",
   "mimetype": "text/x-python",
   "name": "python",
   "nbconvert_exporter": "python",
   "pygments_lexer": "ipython3",
   "version": "3.10.5"
  },
  "orig_nbformat": 4,
  "vscode": {
   "interpreter": {
    "hash": "3a76228ad2be0688f8ad5f22cd5a5c34eb0a8c6f0341e9e6e30d2b6319109a87"
   }
  }
 },
 "nbformat": 4,
 "nbformat_minor": 2
}
