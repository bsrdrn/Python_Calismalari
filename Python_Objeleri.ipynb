{
 "cells": [
  {
   "cell_type": "markdown",
   "metadata": {},
   "source": [
    "STRİNG FORMATLAMA\n",
    "\n",
    "Süslü parantez içerisinde formatta belirlediğimiz değişkenin ne kadarlık kısmının hangi türde yazılmasını istediğimizi belirtiriz. Örneğin 1.2 küsürattan sonra yanlızca 2 rakam daha yazılabileceğini, 5.3 ise noktadan önceki değerin kaç boşluk sonrası yazılması gerektiğini bildirmek için kullanılmaktadır.\n",
    "\n",
    "Formatta sona süslü parantez içine gelmesi gereken değişken adını yazarız. Pythona yeni eklenen ve daha kolay kullanıma sahip olan bir diğer özellik ise f strindir. Yazmış olduğumuz satırda tırnakların başına \"f\" yazmak yeterlidir. Bu durumda süslü parantezler renk alır ve her bir süslü parantezin içine ayrıca formatta belirtmeden istenilen değişken adı yazılır."
   ]
  },
  {
   "cell_type": "code",
   "execution_count": 1,
   "metadata": {},
   "outputs": [
    {
     "name": "stdout",
     "output_type": "stream",
     "text": [
      "0.2857142857142857\n",
      "0.2857142857142857\n",
      "the result is 0.2857142857142857\n",
      "the result is 0.286\n",
      "the result is 0.29\n",
      "the result is   0.286\n",
      "the result is 0.2857142857142857\n"
     ]
    }
   ],
   "source": [
    "print(200/700)\n",
    "\n",
    "x = 200\n",
    "y = 700\n",
    "oran = x/y\n",
    "\n",
    "print(oran)\n",
    "\n",
    "print(\"the result is {}\".format(oran))\n",
    "\n",
    "print(\"the result is {a:1.3}\".format(a=oran))\n",
    "print(\"the result is {a:1.2}\".format(a=oran))\n",
    "print(\"the result is {a:7.3}\".format(a=oran))\n",
    "\n",
    "print(f\"the result is {oran}\")"
   ]
  },
  {
   "cell_type": "code",
   "execution_count": 2,
   "metadata": {},
   "outputs": [
    {
     "name": "stdout",
     "output_type": "stream",
     "text": [
      "the result is 0.286\n"
     ]
    }
   ],
   "source": [
    "\n",
    "\n",
    "x = 200\n",
    "y = 700\n",
    "oran = x/y\n",
    "\n",
    "\n",
    "print(\"the result is {a:1.3}\".format(a=oran))"
   ]
  },
  {
   "cell_type": "code",
   "execution_count": 2,
   "metadata": {},
   "outputs": [
    {
     "name": "stdout",
     "output_type": "stream",
     "text": [
      "my name is Büşra Duran and I am 23 years old.\n"
     ]
    }
   ],
   "source": [
    "name = \"Büşra\"\n",
    "surname = \"Duran\"\n",
    "age = 23\n",
    "\n",
    "print(f\"my name is {name} {surname} and I am {age} years old.\")"
   ]
  },
  {
   "cell_type": "code",
   "execution_count": 3,
   "metadata": {},
   "outputs": [
    {
     "name": "stdout",
     "output_type": "stream",
     "text": [
      "65\n",
      "www\n",
      "25\n",
      "com\n",
      "Python Kursu: B\n",
      "riniz (40 saat)\n",
      "riniz (40 saat)\n"
     ]
    }
   ],
   "source": [
    "website= \"http://www.sadıkturan.com\"\n",
    "course = \"Python Kursu: Baştan Sona Python Programlama Rehberiniz (40 saat)\"\n",
    "\n",
    "# \"course\" karakter dizisinde kaç karakter bulunmaktadır?\n",
    "\n",
    "print(len(course))\n",
    "\n",
    "# website içinden www karakterlerini alın.\n",
    "\n",
    "print(website[7:10])\n",
    "\n",
    "# website içinden com karakterlerini alın.\n",
    "\n",
    "lenght = len(website)\n",
    "print(lenght)\n",
    "print(website[lenght-3: lenght])\n",
    "\n",
    "# course içinden ilk 15 ve son 15 karakteri alın.\n",
    "lenght = len(course)\n",
    "a = print(course[0:15]) \n",
    "b = print(course[lenght-15:lenght])\n",
    "c = print(course[-15:])"
   ]
  },
  {
   "cell_type": "code",
   "execution_count": 4,
   "metadata": {},
   "outputs": [
    {
     "name": "stdout",
     "output_type": "stream",
     "text": [
      "Python Kursu: Briniz (40 saat)\n"
     ]
    }
   ],
   "source": [
    "course = \"Python Kursu: Baştan Sona Python Programlama Rehberiniz (40 saat)\"\n",
    "\n",
    "lenght = len(course)\n",
    "a = (course[0:15]) \n",
    "b = (course[lenght-15:lenght])\n",
    "c = (course[-15:])\n",
    "\n",
    "print(a + b)"
   ]
  },
  {
   "cell_type": "code",
   "execution_count": 5,
   "metadata": {},
   "outputs": [
    {
     "name": "stdout",
     "output_type": "stream",
     "text": [
      ")taas 04( zinirebheR amalmargorP nohtyP anoS natşaB :usruK nohtyP\n",
      "Benim adım Bora Yılmaz,yaşım 32 ve mesleğim mühendis\n",
      "Hello World\n",
      "Hello World\n",
      "abcabcabc\n"
     ]
    }
   ],
   "source": [
    "# course ifadesindeki karakterleri tersten yazdırın.\n",
    "\n",
    "print(course[::-1])\n",
    "\n",
    "name, surname, age, job = \"Bora\", \"Yılmaz\", 32 , \"mühendis\"\n",
    "# Benim adım Bora Yılmaz, yaşım 32 ve mesleğim mühendis. \n",
    "# ifadesini yazdırın.\n",
    "\n",
    "name = \"Bora\"\n",
    "surname = \"Yılmaz\"\n",
    "age = 32\n",
    "job = \"mühendis\"\n",
    "\n",
    "print(f\"Benim adım {name} {surname},yaşım {age} ve mesleğim {job}\")\n",
    "\n",
    "# \"Hello world\" cümlesindeki w harfini W ile değiştirin.\n",
    "\n",
    "s = \"Hello world\"\n",
    "\n",
    "s = s[0:6] + \"W\" + s[-4:]\n",
    "print(s)\n",
    "\n",
    "# Cümleyi parçalayarak bu işlemi gerçekleştirebileceğimiz gibi daha kolay bir yönte olan replace ile de yapabiliriz.\n",
    "\n",
    "s = \"Hello world\"\n",
    "ss = s.replace(\"w\",\"W\")\n",
    "print(ss)\n",
    "\n",
    "# \"abc\" ifadesini 3 kez yazdırın.\n",
    "\n",
    "s= \"abc\"\n",
    "\n",
    "print(s*3)\n"
   ]
  },
  {
   "cell_type": "code",
   "execution_count": 6,
   "metadata": {},
   "outputs": [
    {
     "name": "stdout",
     "output_type": "stream",
     "text": [
      "Hello there, my name is Büşra\n",
      "HELLO THERE, MY NAME IS BÜŞRA\n",
      "hello there, my name is büşra\n",
      "Hello There, My Name Is Büşra\n",
      "Hello there, my name is büşra\n",
      "hello there\n",
      "['Hello', 'there,', 'my', 'name', 'is', 'Büşra']\n",
      "Hello\n",
      "['Hello there', ' my name is Büşra']\n",
      "Hello*there,*my*name*is*Büşra\n",
      "24\n",
      "True\n",
      "True\n",
      "Hello there, my name is Duran\n",
      "Hello--there,--my--name--is--Büşra\n",
      "          Hello there, my name is Büşra           \n",
      "**********Hello there, my name is Büşra***********\n"
     ]
    }
   ],
   "source": [
    "message = \"Hello there, my name is Büşra\"\n",
    "print(message)\n",
    "\n",
    "message = message.upper()\n",
    "print(message)\n",
    "\n",
    "message = message.lower()\n",
    "print(message)\n",
    "\n",
    "message = message.title()\n",
    "print(message)\n",
    "\n",
    "message = message.capitalize()\n",
    "print(message)\n",
    "\n",
    "message =\"  hello there\"\n",
    "message = message.strip()\n",
    "print(message)\n",
    "\n",
    "message = \"Hello there, my name is Büşra\"\n",
    "message = message.split()\n",
    "print(message)\n",
    "print(message[0])\n",
    "\n",
    "message = \"Hello there, my name is Büşra\"\n",
    "message = message.split(\",\")\n",
    "print(message)\n",
    "\n",
    "message = \"Hello there, my name is Büşra\"\n",
    "message = message.split()\n",
    "message = \"*\".join(message)\n",
    "print(message)\n",
    "\n",
    "message = \"Hello there, my name is Büşra\"\n",
    "index= message.find(\"Büşra\")\n",
    "print(index)\n",
    "\n",
    "# Burda sonuç pozitif bir değer çıkarsa aradığımız ifadenin verilen değişken içerisinde olduğunu ve kaçıncı karakterde başladığı bilgisini verir.\n",
    "# 24. karakterde aradığımız ifadenin başladığını görmekteyiz.\n",
    "\n",
    "message = \"Hello there, my name is Büşra\"\n",
    "isFound= message.startswith(\"H\")\n",
    "print(isFound)\n",
    "#Verilen message değişkeninin \"H\" ile başlayıp başlamadığını sorgulamak için kullanılan bir metoddur ve true ya da false değeri döndürür.\n",
    "\n",
    "message = \"Hello there, my name is Büşra\"\n",
    "isFound= message.endswith(\"a\")\n",
    "print(isFound)\n",
    "#Verilen message değişkeninin \"a\" ile bitip bitmediğini sorgulamak için kullanılan bir metoddur ve true ya da false değeri döndürür.\n",
    "\n",
    "message = \"Hello there, my name is Büşra\"\n",
    "message = message.replace(\"Büşra\", \"Duran\")\n",
    "print(message)\n",
    "\n",
    "message = \"Hello there, my name is Büşra\"\n",
    "message = message.replace(\" \", \"--\")\n",
    "print(message)\n",
    "\n",
    "message = \"Hello there, my name is Büşra\"\n",
    "message = message.center(50)\n",
    "print(message)\n",
    "#Verilen string değeri 50 karakter içerisine ortalayarak yazar. \n",
    "message = \"Hello there, my name is Büşra\"\n",
    "message = message.center(50,\"*\")\n",
    "print(message)"
   ]
  }
 ],
 "metadata": {
  "kernelspec": {
   "display_name": "Python 3.10.5 32-bit",
   "language": "python",
   "name": "python3"
  },
  "language_info": {
   "codemirror_mode": {
    "name": "ipython",
    "version": 3
   },
   "file_extension": ".py",
   "mimetype": "text/x-python",
   "name": "python",
   "nbconvert_exporter": "python",
   "pygments_lexer": "ipython3",
   "version": "3.10.5"
  },
  "orig_nbformat": 4,
  "vscode": {
   "interpreter": {
    "hash": "3a76228ad2be0688f8ad5f22cd5a5c34eb0a8c6f0341e9e6e30d2b6319109a87"
   }
  }
 },
 "nbformat": 4,
 "nbformat_minor": 2
}
